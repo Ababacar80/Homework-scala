{
 "cells": [
  {
   "cell_type": "code",
   "execution_count": 1,
   "id": "20be9b07",
   "metadata": {},
   "outputs": [
    {
     "name": "stdout",
     "output_type": "stream",
     "text": [
      "Le PGCD de 90 et 20 est 10\n"
     ]
    },
    {
     "data": {
      "text/html": [
       "<div class=\"jp-RenderedText\">\n",
       "<pre><code><span style=\"color: rgb(0, 187, 187)\"><span class=\"ansi-cyan-fg\">n1</span></span>: <span style=\"color: rgb(0, 187, 0)\"><span class=\"ansi-green-fg\">Int</span></span> = <span style=\"color: rgb(0, 187, 0)\"><span class=\"ansi-green-fg\">90</span></span>\r\n",
       "<span style=\"color: rgb(0, 187, 187)\"><span class=\"ansi-cyan-fg\">n2</span></span>: <span style=\"color: rgb(0, 187, 0)\"><span class=\"ansi-green-fg\">Int</span></span> = <span style=\"color: rgb(0, 187, 0)\"><span class=\"ansi-green-fg\">20</span></span>\r\n",
       "<span style=\"color: rgb(0, 187, 187)\"><span class=\"ansi-cyan-fg\">pgcd</span></span>: <span style=\"color: rgb(0, 187, 0)\"><span class=\"ansi-green-fg\">Int</span></span> = <span style=\"color: rgb(0, 187, 0)\"><span class=\"ansi-green-fg\">10</span></span></code></pre>\n",
       "</div>"
      ],
      "text/plain": [
       "\u001b[36mn1\u001b[39m: \u001b[32mInt\u001b[39m = \u001b[32m90\u001b[39m\r\n",
       "\u001b[36mn2\u001b[39m: \u001b[32mInt\u001b[39m = \u001b[32m20\u001b[39m\r\n",
       "\u001b[36mpgcd\u001b[39m: \u001b[32mInt\u001b[39m = \u001b[32m10\u001b[39m"
      ]
     },
     "metadata": {},
     "output_type": "display_data"
    }
   ],
   "source": [
    "var n1:Int = 90\n",
    "var n2:Int = 20\n",
    "var pgcd:Int = 0\n",
    "\n",
    "for (i <- 1 to n1 if i <= n2 && n1 % i == 0 && n2 % i == 0) {\n",
    "    pgcd = i\n",
    "}\n",
    "\n",
    "println(\"Le PGCD de %d et %d est %d\".format(n1, n2, pgcd))\n"
   ]
  },
  {
   "cell_type": "code",
   "execution_count": 2,
   "id": "82b49e38",
   "metadata": {},
   "outputs": [
    {
     "data": {
      "text/plain": [
       "defined \u001b[32mfunction\u001b[39m \u001b[36mfibonacci\u001b[39m"
      ]
     },
     "execution_count": 2,
     "metadata": {},
     "output_type": "execute_result"
    }
   ],
   "source": [
    "def fibonacci(n: Int): Int = {\n",
    "  var a = 0\n",
    "  var b = 1\n",
    "  for (i <- 2 to n) {\n",
    "    val sum = a + b\n",
    "    a = b\n",
    "    b = sum\n",
    "  }\n",
    "  a\n",
    "}"
   ]
  },
  {
   "cell_type": "code",
   "execution_count": 0,
   "id": "7a419c20",
   "metadata": {},
   "outputs": [
    {
     "name": "stderr",
     "output_type": "stream",
     "text": [
      "cmd0.sc:17: n1$value is already defined as value n1$value\n",
      "val n1$value = new _root_.almond.api.internal.Modifiable[Int](63\n",
      "    ^cmd0.sc:20: n2$value is already defined as value n2$value\n",
      "val n2$value = new _root_.almond.api.internal.Modifiable[Int](40\n",
      "    ^cmd0.sc:23: pgcd$value is already defined as value pgcd$value\n",
      "val pgcd$value = new _root_.almond.api.internal.Modifiable[Int](0\n",
      "    ^cmd0.sc:11: not found: value n1\n",
      "val res0_3 = for (i <- 1 to n1 if i <= n2 && n1 % i == 0 && n2 % i == 0) {\n",
      "                            ^cmd0.sc:12: not found: value pgcd\n",
      "    pgcd = i\n",
      "    ^cmd0.sc:15: not found: value n1\n",
      "val res0_4 = println(\"Le PGCD de %d et %d est %d\".format(n1, n2, pgcd))\n",
      "                                                         ^cmd0.sc:15: not found: value n2\n",
      "val res0_4 = println(\"Le PGCD de %d et %d est %d\".format(n1, n2, pgcd))\n",
      "                                                             ^cmd0.sc:15: not found: value pgcd\n",
      "val res0_4 = println(\"Le PGCD de %d et %d est %d\".format(n1, n2, pgcd))\n",
      "                                                                 ^cmd0.sc:27: not found: value n1\n",
      "val res0_8 = for (i <- 1 to n1 if i <= n2 && n1 % i == 0 && n2 % i == 0) {\n",
      "                            ^cmd0.sc:28: not found: value pgcd\n",
      "    pgcd = i\n",
      "    ^cmd0.sc:31: not found: value n1\n",
      "val res0_9 = println(\"Le PGCD de %d et %d est %d\".format(n1, n2, pgcd))\n",
      "                                                         ^cmd0.sc:31: not found: value n2\n",
      "val res0_9 = println(\"Le PGCD de %d et %d est %d\".format(n1, n2, pgcd))\n",
      "                                                             ^cmd0.sc:31: not found: value pgcd\n",
      "val res0_9 = println(\"Le PGCD de %d et %d est %d\".format(n1, n2, pgcd))\n",
      "                                                                 ^cmd0.sc:37: not found: value n1\n",
      "  .printOnChange(n1, \"n1\", _root_.scala.None, _root_.scala.Some(n1$value.onChange), _root_.scala.None), _root_.almond\n",
      "                 ^cmd0.sc:42: not found: value n2\n",
      "  .printOnChange(n2, \"n2\", _root_.scala.None, _root_.scala.Some(n2$value.onChange), _root_.scala.None), _root_.almond\n",
      "                 ^cmd0.sc:47: not found: value pgcd\n",
      "  .printOnChange(pgcd, \"pgcd\", _root_.scala.None, _root_.scala.Some(pgcd$value.onChange), _root_.scala.None), \n",
      "                 ^cmd0.sc:66: not found: value n1\n",
      "  .printOnChange(n1, \"n1\", _root_.scala.None, _root_.scala.Some(n1$value.onChange), _root_.scala.None), _root_.almond\n",
      "                 ^cmd0.sc:71: not found: value n2\n",
      "  .printOnChange(n2, \"n2\", _root_.scala.None, _root_.scala.Some(n2$value.onChange), _root_.scala.None), _root_.almond\n",
      "                 ^cmd0.sc:76: not found: value pgcd\n",
      "  .printOnChange(pgcd, \"pgcd\", _root_.scala.None, _root_.scala.Some(pgcd$value.onChange), _root_.scala.None), \n",
      "                 ^Compilation Failed"
     ]
    },
    {
     "ename": "",
     "evalue": "",
     "output_type": "error",
     "traceback": [
      "Compilation Failed"
     ]
    }
   ],
   "source": [
    "var n1:Int = 28\n",
    "var n2:Int = 313\n",
    "var pgcd:Int = 0\n",
    "\n",
    "for (i <- 1 to n1 if i <= n2 && n1 % i == 0 && n2 % i == 0) {\n",
    "    pgcd = i\n",
    "}\n",
    "\n",
    "println(\"Le PGCD de %d et %d est %d\".format(n1, n2, pgcd))\n",
    "\n",
    "var n1:Int = 63\n",
    "var n2:Int = 40\n",
    "var pgcd:Int = 0\n",
    "\n",
    "for (i <- 1 to n1 if i <= n2 && n1 % i == 0 && n2 % i == 0) {\n",
    "    pgcd = i\n",
    "}\n",
    "\n",
    "println(\"Le PGCD de %d et %d est %d\".format(n1, n2, pgcd))"
   ]
  },
  {
   "cell_type": "code",
   "execution_count": 1,
   "id": "8d7fc69a",
   "metadata": {},
   "outputs": [
    {
     "name": "stdout",
     "output_type": "stream",
     "text": [
      "Le PGCD de 28 et 313 est 1\n"
     ]
    },
    {
     "data": {
      "text/html": [
       "<div class=\"jp-RenderedText\">\n",
       "<pre><code><span style=\"color: rgb(0, 187, 187)\"><span class=\"ansi-cyan-fg\">n1</span></span>: <span style=\"color: rgb(0, 187, 0)\"><span class=\"ansi-green-fg\">Int</span></span> = <span style=\"color: rgb(0, 187, 0)\"><span class=\"ansi-green-fg\">28</span></span>\r\n",
       "<span style=\"color: rgb(0, 187, 187)\"><span class=\"ansi-cyan-fg\">n2</span></span>: <span style=\"color: rgb(0, 187, 0)\"><span class=\"ansi-green-fg\">Int</span></span> = <span style=\"color: rgb(0, 187, 0)\"><span class=\"ansi-green-fg\">313</span></span>\r\n",
       "<span style=\"color: rgb(0, 187, 187)\"><span class=\"ansi-cyan-fg\">pgcd</span></span>: <span style=\"color: rgb(0, 187, 0)\"><span class=\"ansi-green-fg\">Int</span></span> = <span style=\"color: rgb(0, 187, 0)\"><span class=\"ansi-green-fg\">1</span></span></code></pre>\n",
       "</div>"
      ],
      "text/plain": [
       "\u001b[36mn1\u001b[39m: \u001b[32mInt\u001b[39m = \u001b[32m28\u001b[39m\r\n",
       "\u001b[36mn2\u001b[39m: \u001b[32mInt\u001b[39m = \u001b[32m313\u001b[39m\r\n",
       "\u001b[36mpgcd\u001b[39m: \u001b[32mInt\u001b[39m = \u001b[32m1\u001b[39m"
      ]
     },
     "metadata": {},
     "output_type": "display_data"
    }
   ],
   "source": [
    "var n1:Int = 28\n",
    "var n2:Int = 313\n",
    "var pgcd:Int = 0\n",
    "\n",
    "for (i <- 1 to n1 if i <= n2 && n1 % i == 0 && n2 % i == 0) {\n",
    "    pgcd = i\n",
    "}\n",
    "\n",
    "println(\"Le PGCD de %d et %d est %d\".format(n1, n2, pgcd))"
   ]
  },
  {
   "cell_type": "code",
   "execution_count": 2,
   "id": "0cec9771",
   "metadata": {},
   "outputs": [
    {
     "name": "stdout",
     "output_type": "stream",
     "text": [
      "Le PGCD de 63 et 40 est 1\n"
     ]
    },
    {
     "data": {
      "text/html": [
       "<div class=\"jp-RenderedText\">\n",
       "<pre><code><span style=\"color: rgb(0, 187, 187)\"><span class=\"ansi-cyan-fg\">n1</span></span>: <span style=\"color: rgb(0, 187, 0)\"><span class=\"ansi-green-fg\">Int</span></span> = <span style=\"color: rgb(0, 187, 0)\"><span class=\"ansi-green-fg\">63</span></span>\r\n",
       "<span style=\"color: rgb(0, 187, 187)\"><span class=\"ansi-cyan-fg\">n2</span></span>: <span style=\"color: rgb(0, 187, 0)\"><span class=\"ansi-green-fg\">Int</span></span> = <span style=\"color: rgb(0, 187, 0)\"><span class=\"ansi-green-fg\">40</span></span>\r\n",
       "<span style=\"color: rgb(0, 187, 187)\"><span class=\"ansi-cyan-fg\">pgcd</span></span>: <span style=\"color: rgb(0, 187, 0)\"><span class=\"ansi-green-fg\">Int</span></span> = <span style=\"color: rgb(0, 187, 0)\"><span class=\"ansi-green-fg\">1</span></span></code></pre>\n",
       "</div>"
      ],
      "text/plain": [
       "\u001b[36mn1\u001b[39m: \u001b[32mInt\u001b[39m = \u001b[32m63\u001b[39m\r\n",
       "\u001b[36mn2\u001b[39m: \u001b[32mInt\u001b[39m = \u001b[32m40\u001b[39m\r\n",
       "\u001b[36mpgcd\u001b[39m: \u001b[32mInt\u001b[39m = \u001b[32m1\u001b[39m"
      ]
     },
     "metadata": {},
     "output_type": "display_data"
    }
   ],
   "source": [
    "var n1:Int = 63\n",
    "var n2:Int = 40\n",
    "var pgcd:Int = 0\n",
    "\n",
    "for (i <- 1 to n1 if i <= n2 && n1 % i == 0 && n2 % i == 0) {\n",
    "    pgcd = i\n",
    "}\n",
    "\n",
    "println(\"Le PGCD de %d et %d est %d\".format(n1, n2, pgcd))"
   ]
  },
  {
   "cell_type": "code",
   "execution_count": 3,
   "id": "8a9cbc08",
   "metadata": {},
   "outputs": [
    {
     "data": {
      "text/plain": [
       "defined \u001b[32mfunction\u001b[39m \u001b[36mfibonacci\u001b[39m\r\n",
       "\u001b[36mres2_1\u001b[39m: \u001b[32mInt\u001b[39m = \u001b[32m0\u001b[39m\r\n",
       "\u001b[36mres2_2\u001b[39m: \u001b[32mInt\u001b[39m = \u001b[32m0\u001b[39m\r\n",
       "\u001b[36mres2_3\u001b[39m: \u001b[32mInt\u001b[39m = \u001b[32m196418\u001b[39m\r\n",
       "\u001b[36mres2_4\u001b[39m: \u001b[32mInt\u001b[39m = \u001b[32m63245986\u001b[39m\r\n",
       "\u001b[36mres2_5\u001b[39m: \u001b[32mInt\u001b[39m = \u001b[32m-1709589543\u001b[39m\r\n",
       "\u001b[36mres2_6\u001b[39m: \u001b[32mInt\u001b[39m = \u001b[32m1911599776\u001b[39m"
      ]
     },
     "execution_count": 3,
     "metadata": {},
     "output_type": "execute_result"
    }
   ],
   "source": [
    "def fibonacci(n: Int): Int = {\n",
    "  var a = 0\n",
    "  var b = 1\n",
    "  for (i <- 2 to n) {\n",
    "    val sum = a + b\n",
    "    a = b\n",
    "    b = sum\n",
    "  }\n",
    "  a\n",
    "}\n",
    "fibonacci(0)\n",
    "fibonacci(1)\n",
    "fibonacci(28)\n",
    "fibonacci(40)\n",
    "fibonacci(63)\n",
    "fibonacci(313)"
   ]
  },
  {
   "cell_type": "code",
   "execution_count": null,
   "id": "33409ec4",
   "metadata": {},
   "outputs": [],
   "source": []
  }
 ],
 "metadata": {
  "kernelspec": {
   "display_name": "Scala",
   "language": "scala",
   "name": "scala"
  },
  "language_info": {
   "codemirror_mode": "text/x-scala",
   "file_extension": ".sc",
   "mimetype": "text/x-scala",
   "name": "scala",
   "nbconvert_exporter": "script",
   "version": "2.12.11"
  }
 },
 "nbformat": 4,
 "nbformat_minor": 5
}
