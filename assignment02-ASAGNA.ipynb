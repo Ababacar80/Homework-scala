{
 "cells": [
  {
   "cell_type": "code",
   "execution_count": 2,
   "id": "0627d27c",
   "metadata": {},
   "outputs": [
    {
     "name": "stderr",
     "output_type": "stream",
     "text": [
      "cmd2.sc:4: not found: value addPrefix\n",
      "val x = addPrefix(\"Hello \")\n",
      "        ^Compilation Failed"
     ]
    },
    {
     "ename": "",
     "evalue": "",
     "output_type": "error",
     "traceback": [
      "Compilation Failed"
     ]
    }
   ],
   "source": [
    "def ajoutPrefix(prefix: String): String => String = {\n",
    "  (str: String) => prefix + str\n",
    "}\n",
    "val x = addPrefix(\"Hello \")\n",
    "val result = x(\"world\")\n",
    "println(result) "
   ]
  },
  {
   "cell_type": "code",
   "execution_count": 3,
   "id": "3c2d6d8d",
   "metadata": {},
   "outputs": [
    {
     "name": "stdout",
     "output_type": "stream",
     "text": [
      "Hello world\n"
     ]
    },
    {
     "data": {
      "text/plain": [
       "defined \u001b[32mfunction\u001b[39m \u001b[36majoutPrefix\u001b[39m\r\n",
       "\u001b[36mx\u001b[39m: \u001b[32mString\u001b[39m => \u001b[32mString\u001b[39m = ammonite.$sess.cmd2$Helper$$Lambda$2190/894817948@3b220433\r\n",
       "\u001b[36mresult\u001b[39m: \u001b[32mString\u001b[39m = \u001b[32m\"Hello world\"\u001b[39m"
      ]
     },
     "execution_count": 3,
     "metadata": {},
     "output_type": "execute_result"
    }
   ],
   "source": [
    "def ajoutPrefix(prefix: String): String => String = {\n",
    "  (str: String) => prefix + str\n",
    "}\n",
    "val x = ajoutPrefix(\"Hello \")\n",
    "val result = x(\"world\")\n",
    "println(result) "
   ]
  },
  {
   "cell_type": "code",
   "execution_count": 4,
   "id": "43b92228",
   "metadata": {},
   "outputs": [
    {
     "name": "stdout",
     "output_type": "stream",
     "text": [
      "true\n",
      "false\n"
     ]
    },
    {
     "data": {
      "text/plain": [
       "defined \u001b[32mfunction\u001b[39m \u001b[36mverifier\u001b[39m\r\n",
       "\u001b[36mmaList\u001b[39m: \u001b[32mList\u001b[39m[\u001b[32mInt\u001b[39m] = \u001b[33mList\u001b[39m(\u001b[32m1\u001b[39m, \u001b[32m2\u001b[39m, \u001b[32m3\u001b[39m, \u001b[32m4\u001b[39m, \u001b[32m5\u001b[39m)\r\n",
       "\u001b[36ms\u001b[39m: \u001b[32mInt\u001b[39m => \u001b[32mBoolean\u001b[39m = ammonite.$sess.cmd3$Helper$$Lambda$2216/1937128186@4d3a03d5"
      ]
     },
     "execution_count": 4,
     "metadata": {},
     "output_type": "execute_result"
    }
   ],
   "source": [
    "def verifier(lst: List[Int]): Int => Boolean = {\n",
    "  (num: Int) => lst.contains(num)\n",
    "}\n",
    "val maList = List(1, 2, 3, 4, 5)\n",
    "val s = verifier(maList)\n",
    "\n",
    "println(s(3)) \n",
    "println(s(6))"
   ]
  },
  {
   "cell_type": "code",
   "execution_count": 5,
   "id": "ad4ee1af",
   "metadata": {},
   "outputs": [
    {
     "name": "stdout",
     "output_type": "stream",
     "text": [
      "true\n",
      "false\n"
     ]
    },
    {
     "data": {
      "text/plain": [
       "defined \u001b[32mfunction\u001b[39m \u001b[36mverifierString\u001b[39m\r\n",
       "\u001b[36mstrings\u001b[39m: \u001b[32mList\u001b[39m[\u001b[32mString\u001b[39m] = \u001b[33mList\u001b[39m(\u001b[32m\"ronaldinho\"\u001b[39m, \u001b[32m\"kaka\"\u001b[39m, \u001b[32m\"messi\"\u001b[39m)\r\n",
       "\u001b[36mverifier\u001b[39m: \u001b[32mString\u001b[39m => \u001b[32mBoolean\u001b[39m = ammonite.$sess.cmd4$Helper$$Lambda$2245/12437642@66d9ac38"
      ]
     },
     "execution_count": 5,
     "metadata": {},
     "output_type": "execute_result"
    }
   ],
   "source": [
    "def verifierString(strings: List[String]): String => Boolean = {\n",
    "  val stringSet = strings.toSet \n",
    "  (s: String) => stringSet.contains(s)\n",
    "}\n",
    "val strings = List(\"ronaldinho\", \"kaka\", \"messi\")\n",
    "val verifier = verifierString(strings)\n",
    "\n",
    "println(verifier(\"ronaldinho\")) \n",
    "println(verifier(\"fallou\")) "
   ]
  },
  {
   "cell_type": "code",
   "execution_count": null,
   "id": "19482750",
   "metadata": {},
   "outputs": [],
   "source": []
  }
 ],
 "metadata": {
  "kernelspec": {
   "display_name": "Scala",
   "language": "scala",
   "name": "scala"
  },
  "language_info": {
   "codemirror_mode": "text/x-scala",
   "file_extension": ".sc",
   "mimetype": "text/x-scala",
   "name": "scala",
   "nbconvert_exporter": "script",
   "version": "2.12.11"
  }
 },
 "nbformat": 4,
 "nbformat_minor": 5
}
